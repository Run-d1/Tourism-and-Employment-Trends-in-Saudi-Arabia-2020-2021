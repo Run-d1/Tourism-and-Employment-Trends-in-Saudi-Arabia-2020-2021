{
 "cells": [
  {
   "cell_type": "code",
   "execution_count": null,
   "id": "f6d6e550-6df7-44b7-a118-de3162feff9c",
   "metadata": {},
   "outputs": [],
   "source": [
    "import pandas as pd\n",
    "\n",
    "folder_path = 'DSS_DATASET_UPDATED.xlsx'\n",
    "df = pd.read_excel(folder_path, sheet_name = 'O3')\n",
    "# O2 = Purpose of Trips \n",
    "# O3 =  Number by Destination - Region\n",
    "# O5 = Mode of Departure\n",
    "\n",
    "df"
   ]
  },
  {
   "cell_type": "code",
   "execution_count": null,
   "id": "d79a8eb8-eb2a-4729-a8c8-989721413efc",
   "metadata": {},
   "outputs": [],
   "source": [
    "df.rename(columns={'Unnamed: 1': 'Year'}, inplace=True)\n",
    "df.rename(columns={'Unnamed: 2': 'Month'}, inplace=True)\n",
    "\n",
    "df"
   ]
  },
  {
   "cell_type": "code",
   "execution_count": null,
   "id": "5358f08c-0d6d-4d6c-ae2d-d80526c10165",
   "metadata": {},
   "outputs": [],
   "source": [
    "df = df[3:].reset_index(drop=True)\n",
    "\n",
    "df"
   ]
  },
  {
   "cell_type": "code",
   "execution_count": null,
   "id": "aaed3068-8783-42e1-91a4-9cac0e53f5bf",
   "metadata": {},
   "outputs": [],
   "source": [
    "months = ['January', 'February', 'March', 'April', 'May', 'June', 'July', 'August', 'September', 'October', 'November', 'December']\n",
    "index = 0\n",
    "for month in df['Month']:\n",
    "    if index >= 2:\n",
    "        if month not in months:\n",
    "            df = df.drop(index)\n",
    "    index += 1\n",
    "\n",
    "df = df.reset_index(drop=True)\n",
    "df"
   ]
  },
  {
   "cell_type": "code",
   "execution_count": null,
   "id": "1451e5e8-cc6e-4e06-bd1c-25751fbe63c7",
   "metadata": {},
   "outputs": [],
   "source": [
    "years = []\n",
    "count = 0\n",
    "for Num in df['Year']:\n",
    "    if not pd.isnull(Num):\n",
    "        years.append(int(Num))\n",
    "    else:\n",
    "        if count > 0:\n",
    "            years.append(int(years[count-1]))\n",
    "        else:\n",
    "            years.append(0)\n",
    "    count += 1\n",
    "\n",
    "df['Year'] = years\n",
    "\n",
    "df"
   ]
  },
  {
   "cell_type": "code",
   "execution_count": null,
   "id": "97553221-c335-4add-bafd-f2f2c46f707c",
   "metadata": {},
   "outputs": [],
   "source": [
    "df['Year'] = df['Year'].astype(str)\n",
    "df['Month'] = df['Month'].astype(str)\n",
    "\n",
    "df"
   ]
  },
  {
   "cell_type": "code",
   "execution_count": null,
   "id": "30ffeea0-4ba3-4ecc-bc7d-4a3cbd9de30b",
   "metadata": {},
   "outputs": [],
   "source": [
    "df['Year - Month'] = df['Year'] + ' - ' + df['Month']\n",
    "\n",
    "df"
   ]
  },
  {
   "cell_type": "code",
   "execution_count": null,
   "id": "6f2088f3-f9fb-4d19-96fb-bd9be6c224ed",
   "metadata": {},
   "outputs": [],
   "source": [
    "col = df['Year - Month']\n",
    "df.drop(labels=['Year - Month'], axis=1, inplace=True)\n",
    "df.insert(0, 'Year - Month', col)\n",
    "\n",
    "df"
   ]
  },
  {
   "cell_type": "code",
   "execution_count": null,
   "id": "1ec9121d-7e30-4a2d-8c09-02f207d7eeea",
   "metadata": {},
   "outputs": [],
   "source": [
    "df.drop(['(Last update: 26-06-2023)', 'Year', 'Month'], axis=1, inplace=True)\n",
    "\n",
    "df"
   ]
  },
  {
   "cell_type": "code",
   "execution_count": null,
   "id": "d2689171-9f25-480e-9f20-94cfbc32c8bd",
   "metadata": {},
   "outputs": [],
   "source": [
    "df = df.transpose()\n",
    "\n",
    "df"
   ]
  },
  {
   "cell_type": "code",
   "execution_count": null,
   "id": "d3256dff-b462-4b8e-bc5e-92817a57d3d6",
   "metadata": {},
   "outputs": [],
   "source": [
    "df = df.rename(columns={0: 'Region'})\n",
    "df = df.rename(columns={1: 'Citizenship'})\n",
    "\n",
    "df"
   ]
  },
  {
   "cell_type": "code",
   "execution_count": null,
   "id": "6aebed48-2f73-4b1c-abbd-b5a88082c06e",
   "metadata": {},
   "outputs": [],
   "source": [
    "df['Region'] = df['Region'].str.split('\\n').str[0]\n",
    "df['Citizenship'] = df['Citizenship'].str.split('\\n').str[0]\n",
    "\n",
    "df"
   ]
  },
  {
   "cell_type": "code",
   "execution_count": null,
   "id": "9ba7dd30-5df5-4d42-8f86-734e78da1e32",
   "metadata": {},
   "outputs": [],
   "source": [
    "df = df.reset_index(drop=True)\n",
    "\n",
    "df"
   ]
  },
  {
   "cell_type": "code",
   "execution_count": null,
   "id": "568803dd-97be-4ea4-a19f-f9dce15ecc89",
   "metadata": {},
   "outputs": [],
   "source": [
    "citizenships = ['Saudi', 'Non-Saudi']\n",
    "index = 0\n",
    "for val in df['Citizenship']:\n",
    "    if index >= 1:\n",
    "        if val not in citizenships:\n",
    "            df = df.drop(index)\n",
    "    index += 1\n",
    "        \n",
    "df"
   ]
  },
  {
   "cell_type": "code",
   "execution_count": null,
   "id": "cf67128f-d4e5-4844-8225-b0dc4c62b64d",
   "metadata": {},
   "outputs": [],
   "source": [
    "regions = []\n",
    "count = 0\n",
    "for val in df['Region']:\n",
    "    if not pd.isnull(val):\n",
    "        regions.append(val)\n",
    "    else:\n",
    "        if count > 0:\n",
    "            regions.append(regions[count-1])\n",
    "        else:\n",
    "            regions.append(None)\n",
    "    count += 1\n",
    "\n",
    "df['Region'] = regions\n",
    "\n",
    "df = df.reset_index(drop=True)\n",
    "df"
   ]
  },
  {
   "cell_type": "code",
   "execution_count": null,
   "id": "edbb0bb9-0d23-43af-b73c-20f7bb9e232c",
   "metadata": {},
   "outputs": [],
   "source": [
    "df = df.iloc[0:15].reset_index(drop=True)\n",
    "\n",
    "df"
   ]
  },
  {
   "cell_type": "code",
   "execution_count": null,
   "id": "9a0bbcc8-150b-4d3b-92a2-1dd01568fb8a",
   "metadata": {},
   "outputs": [],
   "source": [
    "df['Region, Citizenship'] = df['Region'] + ', ' + df['Citizenship']\n",
    "\n",
    "df"
   ]
  },
  {
   "cell_type": "code",
   "execution_count": null,
   "id": "d326625e-2e79-43d5-85dc-548c6c460c54",
   "metadata": {},
   "outputs": [],
   "source": [
    "col = df['Region, Citizenship']\n",
    "df.drop(labels=['Region, Citizenship'], axis=1, inplace=True)\n",
    "df.insert(0, 'Region, Citizenship', col)\n",
    "\n",
    "df"
   ]
  },
  {
   "cell_type": "code",
   "execution_count": null,
   "id": "1b61fabd-f116-4a57-acde-0cbbedb7983b",
   "metadata": {},
   "outputs": [],
   "source": [
    "df.drop(['Region', 'Citizenship'], axis=1, inplace=True)\n",
    "\n",
    "df"
   ]
  },
  {
   "cell_type": "code",
   "execution_count": null,
   "id": "b9c2812f-9a88-4579-81bd-a0e29da1de3c",
   "metadata": {},
   "outputs": [],
   "source": [
    "df = df.transpose()\n",
    "df = df.reset_index(drop=True)\n",
    "df"
   ]
  },
  {
   "cell_type": "code",
   "execution_count": null,
   "id": "0700b829-c255-4d1f-a03d-da357ce4a270",
   "metadata": {},
   "outputs": [],
   "source": [
    "df.columns = df.iloc[0]\n",
    "df = df[1:].reset_index(drop=True)\n",
    "\n",
    "df"
   ]
  },
  {
   "cell_type": "code",
   "execution_count": null,
   "id": "0ea5c39c-b8b5-4f0e-9147-163532f7ab79",
   "metadata": {},
   "outputs": [],
   "source": [
    "fact_table = df.rename(columns={'0 - Month, 0 - nan': 'Year - Month'})\n",
    "\n",
    "fact_table"
   ]
  },
  {
   "cell_type": "code",
   "execution_count": null,
   "id": "2296936f-644c-42f5-980d-56abcc1f22f5",
   "metadata": {},
   "outputs": [],
   "source": [
    "fact_table = pd.melt(fact_table, id_vars=['Year - Month'], var_name=\"Region, Citizenship\", value_name=\"Number_of_Tourists\")\n",
    "\n",
    "fact_table"
   ]
  },
  {
   "cell_type": "code",
   "execution_count": null,
   "id": "f36ca80f-dbec-45aa-99c8-047b097a783f",
   "metadata": {},
   "outputs": [],
   "source": [
    "fact_table['Year'] = fact_table['Year - Month'].str.split(' - ').str[0]\n",
    "fact_table['Month'] = fact_table['Year - Month'].str.split(' - ').str[1]\n",
    "\n",
    "fact_table.drop(columns=['Year - Month'], inplace=True)\n",
    "\n",
    "fact_table"
   ]
  },
  {
   "cell_type": "code",
   "execution_count": null,
   "id": "17f1b202-66e1-418b-be3c-f1ac74eb654c",
   "metadata": {},
   "outputs": [],
   "source": [
    "quarters = []\n",
    "for month in fact_table['Month']:\n",
    "    if month in months[0:3]:\n",
    "        quarters.append('Q1')\n",
    "    elif month in months[3:6]:\n",
    "        quarters.append('Q2')\n",
    "    elif month in months[6:9]:\n",
    "        quarters.append('Q3')\n",
    "    elif month in months[9:]:\n",
    "        quarters.append('Q4')\n",
    "    else:\n",
    "        quarters.append(None)\n",
    "\n",
    "fact_table['Quarter'] = quarters\n",
    "\n",
    "fact_table"
   ]
  },
  {
   "cell_type": "code",
   "execution_count": null,
   "id": "e66cf917-7f65-4a27-8e0e-b31460453ad1",
   "metadata": {},
   "outputs": [],
   "source": [
    "fact_table['Region'] = fact_table['Region, Citizenship'].str.split(', ').str[0]\n",
    "fact_table['Citizenship'] = fact_table['Region, Citizenship'].str.split(', ').str[1]\n",
    "\n",
    "fact_table.drop(columns=['Region, Citizenship'], inplace=True)\n",
    "\n",
    "fact_table"
   ]
  },
  {
   "cell_type": "code",
   "execution_count": null,
   "id": "a164c5bc-e250-4dfe-8bb8-aad141bff986",
   "metadata": {},
   "outputs": [],
   "source": [
    "fact_table['Region'] = fact_table['Region'].str.lstrip()\n",
    "fact_table['Region'] = fact_table['Region'].str.rstrip()\n",
    "\n",
    "fact_table"
   ]
  },
  {
   "cell_type": "code",
   "execution_count": null,
   "id": "4c9ea483-282d-4ace-95e3-16b619160e72",
   "metadata": {},
   "outputs": [],
   "source": [
    "def format_region(region):\n",
    "    words = region.split()\n",
    "    formatted_words = []\n",
    "    for word in words:\n",
    "        if len(word) <= 3:\n",
    "            formatted_word = word\n",
    "        else:\n",
    "            formatted_word = word.capitalize()\n",
    "        formatted_words.append(formatted_word)\n",
    "    return ' '.join(formatted_words)\n",
    "\n",
    "fact_table['Region'] = fact_table['Region'].apply(format_region)\n",
    "\n",
    "fact_table"
   ]
  },
  {
   "cell_type": "code",
   "execution_count": null,
   "id": "3dacb7e2-7d9d-4f84-9f07-b2dba8f380b4",
   "metadata": {},
   "outputs": [],
   "source": [
    "date_dim = pd.read_csv('Tourism_Date_Dim.csv')\n",
    "\n",
    "date_dim"
   ]
  },
  {
   "cell_type": "code",
   "execution_count": null,
   "id": "c68b365a-d9e3-45af-bc5b-03113d22b8c8",
   "metadata": {},
   "outputs": [],
   "source": [
    "fact_table['Year'] = fact_table['Year'].astype(int) \n",
    "\n",
    "fact_table"
   ]
  },
  {
   "cell_type": "code",
   "execution_count": null,
   "id": "4ca1f6d6-e87e-4cd6-9489-aab8d45cde2e",
   "metadata": {},
   "outputs": [],
   "source": [
    "fact_table = pd.merge(fact_table, date_dim, on=['Year', 'Quarter', 'Month'], how='left')\n",
    "\n",
    "fact_table"
   ]
  },
  {
   "cell_type": "code",
   "execution_count": null,
   "id": "9e5aa8c5-c8a1-4c74-923a-de217333dea8",
   "metadata": {},
   "outputs": [],
   "source": [
    "citizenship_dim = pd.read_csv('Tourism_Citizenship_Dim.csv')\n",
    "\n",
    "citizenship_dim"
   ]
  },
  {
   "cell_type": "code",
   "execution_count": null,
   "id": "6c0081e5-ac7e-42da-8c39-6ef2f1b2f049",
   "metadata": {},
   "outputs": [],
   "source": [
    "fact_table = pd.merge(fact_table, citizenship_dim, on='Citizenship', how='left')\n",
    "\n",
    "fact_table"
   ]
  },
  {
   "cell_type": "code",
   "execution_count": null,
   "id": "d833df94-4c42-4c52-bd5d-283bd1c6fbc7",
   "metadata": {},
   "outputs": [],
   "source": [
    "loc_dim = pd.read_csv('Tourism_Location_Dim.csv')\n",
    "\n",
    "loc_dim"
   ]
  },
  {
   "cell_type": "code",
   "execution_count": null,
   "id": "583c16de-557d-4e45-84e7-ff9c35bdfe70",
   "metadata": {},
   "outputs": [],
   "source": [
    "fact_table = pd.merge(fact_table, loc_dim, on='Region', how='left')\n",
    "\n",
    "fact_table"
   ]
  },
  {
   "cell_type": "code",
   "execution_count": null,
   "id": "cfd6c240-6495-4cab-b26e-9e14be41bef6",
   "metadata": {},
   "outputs": [],
   "source": [
    "fact_table = fact_table[['Date_ID', 'Citizenship_ID', 'Location_ID', 'Number_of_Tourists']]\n",
    "\n",
    "fact_table"
   ]
  },
  {
   "cell_type": "code",
   "execution_count": null,
   "id": "d3bc1de5-dcd7-475c-b44c-de60ed65648d",
   "metadata": {},
   "outputs": [],
   "source": [
    "fact_table = fact_table.sort_values(by=['Date_ID', 'Citizenship_ID', 'Location_ID'])\n",
    "\n",
    "fact_table"
   ]
  },
  {
   "cell_type": "code",
   "execution_count": null,
   "id": "e9337eb0-0c6e-4a3e-982e-002b7e791b95",
   "metadata": {},
   "outputs": [],
   "source": [
    "fact_table['Number_of_Tourists'] = fact_table['Number_of_Tourists'].apply(lambda x: '{:,.3f}'.format(x) if x != 0 else x)\n",
    "\n",
    "fact_table"
   ]
  },
  {
   "cell_type": "code",
   "execution_count": null,
   "id": "fb6ecd33-16e9-47e6-9131-8b710ec424ca",
   "metadata": {},
   "outputs": [],
   "source": [
    "fact_table['Number_of_Tourists'] = fact_table['Number_of_Tourists'].apply(lambda x: x.replace('.', '') if x != 0 else x)\n",
    "\n",
    "fact_table"
   ]
  },
  {
   "cell_type": "code",
   "execution_count": null,
   "id": "774652d5-ef2a-41a6-8411-ff132f71c930",
   "metadata": {},
   "outputs": [],
   "source": [
    "fact_table['Number_of_Tourists'] = fact_table['Number_of_Tourists'].astype(str)\n",
    "\n",
    "fact_table"
   ]
  },
  {
   "cell_type": "code",
   "execution_count": null,
   "id": "151b9e01-1d61-47d2-a015-42dff81e7de0",
   "metadata": {},
   "outputs": [],
   "source": [
    "fact_table['Number_of_Tourists'] = fact_table['Number_of_Tourists'].apply(lambda x: x.lstrip('0') if x != '0' else x)\n",
    "\n",
    "fact_table"
   ]
  },
  {
   "cell_type": "code",
   "execution_count": null,
   "id": "d9abc82f-a8cc-43b8-8131-2e11f98a1f3f",
   "metadata": {},
   "outputs": [],
   "source": [
    "fact_table['Number_of_Tourists'] = fact_table['Number_of_Tourists'].apply(lambda x: '{:,.0f}'.format(int(x)) if x != '0' else x)\n",
    "\n",
    "fact_table"
   ]
  },
  {
   "cell_type": "code",
   "execution_count": null,
   "id": "9c213ba1-ee28-4feb-8a12-fd1ae619abb5",
   "metadata": {},
   "outputs": [],
   "source": [
    "fact_table.to_csv('Tourism_Location_Fact.csv', index=False)"
   ]
  }
 ],
 "metadata": {
  "kernelspec": {
   "display_name": "Python 3 (ipykernel)",
   "language": "python",
   "name": "python3"
  },
  "language_info": {
   "codemirror_mode": {
    "name": "ipython",
    "version": 3
   },
   "file_extension": ".py",
   "mimetype": "text/x-python",
   "name": "python",
   "nbconvert_exporter": "python",
   "pygments_lexer": "ipython3",
   "version": "3.11.7"
  }
 },
 "nbformat": 4,
 "nbformat_minor": 5
}
